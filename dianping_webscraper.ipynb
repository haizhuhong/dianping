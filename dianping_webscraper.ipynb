{
 "cells": [
  {
   "cell_type": "code",
   "execution_count": 2,
   "metadata": {},
   "outputs": [],
   "source": [
    "import requests\n",
    "import pandas as pd\n",
    "from bs4 import BeautifulSoup\n",
    "import time\n",
    "import random\n",
    "import re\n",
    "from fake_useragent import UserAgent\n",
    "import numpy as np\n",
    "from selenium import webdriver\n",
    "import pickle\n",
    "from retrying import retry"
   ]
  },
  {
   "cell_type": "code",
   "execution_count": 3,
   "metadata": {},
   "outputs": [],
   "source": [
    "def getCookies():\n",
    "    chromePath = '/Users/haizhuhong/chromedriver'\n",
    "    wd = webdriver.Chrome(executable_path= chromePath)\n",
    "    url = 'https://account.dianping.com/login?redir=http%3A%2F%2Fwww.dianping.com%2F'\n",
    "    wd.get(url)\n",
    "    iframe = wd.find_element_by_xpath('//*[@id=\"J_login_container\"]/div/iframe')\n",
    "    wd.switch_to_frame(iframe)\n",
    "    icon_pc = wd.find_element_by_xpath('/html/body/div/div[2]/div[5]/span')\n",
    "    icon_pc.click()\n",
    "    time.sleep(2)\n",
    "    name_login = wd.find_element_by_xpath('//*[@id=\"tab-account\"]')\n",
    "    name_login.click()\n",
    "    time.sleep(2)\n",
    "    \n",
    "    wd.find_element_by_id('account-textbox').send_keys('**********')\n",
    "    wd.find_element_by_xpath('//input[@id=\"password-textbox\"]').send_keys('*******')\n",
    "    wd.find_element_by_xpath('//button[@id=\"login-button-account\"]').click()\n",
    "    \n",
    "    cookies=wd.get_cookies()\n",
    "    pickle.dump(cookies, open('cookies.txt','wb'))\n",
    "    print(cookies)\n",
    "    time.sleep(5)\n",
    "    wd.quit()\n"
   ]
  },
  {
   "cell_type": "code",
   "execution_count": 4,
   "metadata": {},
   "outputs": [],
   "source": [
    "def getProxy():\n",
    "    \n",
    "    targetUrl = \"http://www.baidu.com\"\n",
    "    \n",
    "    proxy_host = \"dyn.horocn.com\"\n",
    "    proxy_port = \"50000\"\n",
    "\n",
    "    proxy_username = \"xxxxxxx\"\n",
    "    proxy_pwd = \"xxxxxxx\"\n",
    "   \n",
    "    proxyMeta = \"http://%(user)s:%(pass)s@%(host)s:%(port)s\" % {\n",
    "        \"host\": proxy_host,\n",
    "        \"port\": proxy_port,\n",
    "        \"user\": proxy_username,\n",
    "        \"pass\": proxy_pwd,\n",
    "    }\n",
    "    \n",
    "    proxies = {\n",
    "        'http': proxyMeta,\n",
    "        'https': proxyMeta,\n",
    "    }\n",
    "    \n",
    "    return proxies"
   ]
  },
  {
   "cell_type": "code",
   "execution_count": 5,
   "metadata": {},
   "outputs": [],
   "source": [
    "def getUserAgent():\n",
    "    user_agent = UserAgent().random\n",
    "    return user_agent"
   ]
  },
  {
   "cell_type": "code",
   "execution_count": 6,
   "metadata": {},
   "outputs": [],
   "source": [
    "def getReferer():\n",
    "    referers=['http://www.dianping.com/chongqing/ch10/g110r1608', \n",
    "              'http://www.dianping.com/chongqing/ch10/g110r1621', \n",
    "              'http://www.dianping.com/chongqing/ch10/g110r8370', \n",
    "              'http://www.dianping.com/chongqing/ch10/g110r1610', \n",
    "              'http://www.dianping.com/chongqing/ch10/g110r8371', \n",
    "              'http://www.dianping.com/chongqing/ch10/g110r1616', \n",
    "              'http://www.dianping.com/chongqing/ch10/g110r1634', \n",
    "              'http://www.dianping.com/chongqing/ch10/g110r1629', \n",
    "              'http://www.dianping.com/chongqing/ch10/g110r1632', \n",
    "              'http://www.dianping.com/chongqing/ch10/g110r6278', \n",
    "              'http://www.dianping.com/chongqing/ch10/g110r6278d500', \n",
    "              'http://www.dianping.com/chongqing/ch10/g110r1615', \n",
    "              'http://www.dianping.com/chongqing/ch10/g110r24874']\n",
    "    referer=random.choice(referers)\n",
    "    return referer"
   ]
  },
  {
   "cell_type": "code",
   "execution_count": 35,
   "metadata": {},
   "outputs": [],
   "source": [
    "def getWebpages(url):\n",
    "    \n",
    "    user_agent = getUserAgent()\n",
    "    referer = getReferer()\n",
    "    proxies = getProxy()\n",
    "    #with open('cookies.txt', 'rb') as f:\n",
    "        #data = pickle.load(f)\n",
    "    #for item in data:\n",
    "        #cookies={item['name']:item['value']}\n",
    "    headers = {\n",
    "        'User-Agent': user_agent,\n",
    "        'Referer': referer\n",
    "        #'Cookie': str(cookies)\n",
    "    }\n",
    "    \n",
    "    res = requests.get(url, proxies=proxies, headers=headers)\n",
    "    res.encoding='utf-8'\n",
    "    soup = BeautifulSoup(res.text, features='lxml')\n",
    "    data = soup.find('div', class_='shop-list J_shop-list shop-all-list', id='shop-all-list')\n",
    "    shops = data.find_all('li')\n",
    "\n",
    "    return shops\n"
   ]
  },
  {
   "cell_type": "code",
   "execution_count": 8,
   "metadata": {},
   "outputs": [],
   "source": [
    "def getData(shops):\n",
    "    shopdf = pd.DataFrame(columns=['shopid', 'title', 'address', 'rating', 'recdish', 'deal'])\n",
    "    for shop in shops:\n",
    "        sep = '/'\n",
    "        # Find shopid\n",
    "        shopid = shop.find('div', class_='tit').find_all('a')[0]['data-shopid']\n",
    "        # Find shop title\n",
    "        title = shop.find('div', class_='tit').find_all('a')[0]['title']\n",
    "        # Find shop address\n",
    "        addr = shop.find('div', class_='operate J_operate Hide').find_all('a')[1]['data-address']\n",
    "        # Find shop rating\n",
    "        label = 'star_score score' + shop.find('div', class_='star_icon').find('span')['class'][1][4:] + ' star_score_sml'\n",
    "        rating = shop.find('div', class_=label).text\n",
    "        # Find recommend dishes\n",
    "        recdish = []\n",
    "        for item in shop.find('div', class_='recommend').find_all('a'):\n",
    "            recdish.append(item.text)\n",
    "        recstr = sep.join(recdish)\n",
    "        # Find deal info\n",
    "        deal = []\n",
    "        if len(shop.find('div', class_='promo-icon J_promo_icon').find_all('a')) == 0:\n",
    "            dealstr = np.nan\n",
    "        else:\n",
    "            for item in shop.find('div', class_='promo-icon J_promo_icon').find_all('a'):\n",
    "                deal.append(item['title'])\n",
    "            dealstr = sep.join(deal)\n",
    "\n",
    "        shopdf = shopdf.append({'shopid': shopid, 'title': title, 'address': addr, 'rating': rating, 'recdish': recstr, 'deal': dealstr}, ignore_index=True)\n",
    "        \n",
    "    return shopdf"
   ]
  },
  {
   "cell_type": "code",
   "execution_count": 9,
   "metadata": {},
   "outputs": [
    {
     "ename": "TypeError",
     "evalue": "'int' object is not iterable",
     "output_type": "error",
     "traceback": [
      "\u001b[0;31m---------------------------------------------------------------------------\u001b[0m",
      "\u001b[0;31mTypeError\u001b[0m                                 Traceback (most recent call last)",
      "\u001b[0;32m<ipython-input-9-1e49b0ceecf1>\u001b[0m in \u001b[0;36m<module>\u001b[0;34m\u001b[0m\n\u001b[1;32m      1\u001b[0m \u001b[0mpages\u001b[0m \u001b[0;34m=\u001b[0m \u001b[0;36m16\u001b[0m\u001b[0;34m\u001b[0m\u001b[0;34m\u001b[0m\u001b[0m\n\u001b[0;32m----> 2\u001b[0;31m \u001b[0;32mfor\u001b[0m \u001b[0mpage\u001b[0m \u001b[0;32min\u001b[0m \u001b[0mpages\u001b[0m\u001b[0;34m:\u001b[0m\u001b[0;34m\u001b[0m\u001b[0;34m\u001b[0m\u001b[0m\n\u001b[0m\u001b[1;32m      3\u001b[0m     \u001b[0murl\u001b[0m \u001b[0;34m=\u001b[0m \u001b[0;34m'https://www.dianping.com/chongqing/ch10/g110r1608o3p'\u001b[0m \u001b[0;34m+\u001b[0m \u001b[0mstr\u001b[0m\u001b[0;34m(\u001b[0m\u001b[0mpage\u001b[0m\u001b[0;34m)\u001b[0m\u001b[0;34m\u001b[0m\u001b[0;34m\u001b[0m\u001b[0m\n\u001b[1;32m      4\u001b[0m     \u001b[0mshops\u001b[0m \u001b[0;34m=\u001b[0m \u001b[0mfindShop\u001b[0m\u001b[0;34m(\u001b[0m\u001b[0murl\u001b[0m\u001b[0;34m)\u001b[0m\u001b[0;34m\u001b[0m\u001b[0;34m\u001b[0m\u001b[0m\n\u001b[1;32m      5\u001b[0m     \u001b[0mshopdf\u001b[0m \u001b[0;34m=\u001b[0m \u001b[0mgetData\u001b[0m\u001b[0;34m(\u001b[0m\u001b[0mshops\u001b[0m\u001b[0;34m)\u001b[0m\u001b[0;34m\u001b[0m\u001b[0;34m\u001b[0m\u001b[0m\n",
      "\u001b[0;31mTypeError\u001b[0m: 'int' object is not iterable"
     ]
    }
   ],
   "source": [
    "pages = 16\n",
    "for page in pages:\n",
    "    url = 'https://www.dianping.com/chongqing/ch10/g110r1608o3p' + str(page)\n",
    "    shops = findShop(url)\n",
    "    shopdf = getData(shops)\n",
    "    filename = 'dianping' + str(page) + '.csv'\n",
    "    shopdf.to_csv(filename)\n",
    "    time.sleep(30)"
   ]
  },
  {
   "cell_type": "code",
   "execution_count": 38,
   "metadata": {},
   "outputs": [
    {
     "ename": "AttributeError",
     "evalue": "'NoneType' object has no attribute 'find_all'",
     "output_type": "error",
     "traceback": [
      "\u001b[0;31m---------------------------------------------------------------------------\u001b[0m",
      "\u001b[0;31mAttributeError\u001b[0m                            Traceback (most recent call last)",
      "\u001b[0;32m<ipython-input-38-640c1e7b796e>\u001b[0m in \u001b[0;36m<module>\u001b[0;34m\u001b[0m\n\u001b[1;32m      1\u001b[0m \u001b[0mpage\u001b[0m \u001b[0;34m=\u001b[0m \u001b[0;36m5\u001b[0m\u001b[0;34m\u001b[0m\u001b[0;34m\u001b[0m\u001b[0m\n\u001b[1;32m      2\u001b[0m \u001b[0murl\u001b[0m \u001b[0;34m=\u001b[0m \u001b[0;34m'https://www.dianping.com/chongqing/ch10/g110r1608o3p'\u001b[0m \u001b[0;34m+\u001b[0m \u001b[0mstr\u001b[0m\u001b[0;34m(\u001b[0m\u001b[0mpage\u001b[0m\u001b[0;34m)\u001b[0m\u001b[0;34m\u001b[0m\u001b[0;34m\u001b[0m\u001b[0m\n\u001b[0;32m----> 3\u001b[0;31m \u001b[0mshops\u001b[0m \u001b[0;34m=\u001b[0m \u001b[0mgetWebpages\u001b[0m\u001b[0;34m(\u001b[0m\u001b[0murl\u001b[0m\u001b[0;34m)\u001b[0m\u001b[0;34m\u001b[0m\u001b[0;34m\u001b[0m\u001b[0m\n\u001b[0m",
      "\u001b[0;32m<ipython-input-35-e142558f1a80>\u001b[0m in \u001b[0;36mgetWebpages\u001b[0;34m(url)\u001b[0m\n\u001b[1;32m     18\u001b[0m     \u001b[0msoup\u001b[0m \u001b[0;34m=\u001b[0m \u001b[0mBeautifulSoup\u001b[0m\u001b[0;34m(\u001b[0m\u001b[0mres\u001b[0m\u001b[0;34m.\u001b[0m\u001b[0mtext\u001b[0m\u001b[0;34m,\u001b[0m \u001b[0mfeatures\u001b[0m\u001b[0;34m=\u001b[0m\u001b[0;34m'lxml'\u001b[0m\u001b[0;34m)\u001b[0m\u001b[0;34m\u001b[0m\u001b[0;34m\u001b[0m\u001b[0m\n\u001b[1;32m     19\u001b[0m     \u001b[0mdata\u001b[0m \u001b[0;34m=\u001b[0m \u001b[0msoup\u001b[0m\u001b[0;34m.\u001b[0m\u001b[0mfind\u001b[0m\u001b[0;34m(\u001b[0m\u001b[0;34m'div'\u001b[0m\u001b[0;34m,\u001b[0m \u001b[0mclass_\u001b[0m\u001b[0;34m=\u001b[0m\u001b[0;34m'shop-list J_shop-list shop-all-list'\u001b[0m\u001b[0;34m,\u001b[0m \u001b[0mid\u001b[0m\u001b[0;34m=\u001b[0m\u001b[0;34m'shop-all-list'\u001b[0m\u001b[0;34m)\u001b[0m\u001b[0;34m\u001b[0m\u001b[0;34m\u001b[0m\u001b[0m\n\u001b[0;32m---> 20\u001b[0;31m     \u001b[0mshops\u001b[0m \u001b[0;34m=\u001b[0m \u001b[0mdata\u001b[0m\u001b[0;34m.\u001b[0m\u001b[0mfind_all\u001b[0m\u001b[0;34m(\u001b[0m\u001b[0;34m'li'\u001b[0m\u001b[0;34m)\u001b[0m\u001b[0;34m\u001b[0m\u001b[0;34m\u001b[0m\u001b[0m\n\u001b[0m\u001b[1;32m     21\u001b[0m \u001b[0;34m\u001b[0m\u001b[0m\n\u001b[1;32m     22\u001b[0m     \u001b[0;32mreturn\u001b[0m \u001b[0mshops\u001b[0m\u001b[0;34m\u001b[0m\u001b[0;34m\u001b[0m\u001b[0m\n",
      "\u001b[0;31mAttributeError\u001b[0m: 'NoneType' object has no attribute 'find_all'"
     ]
    }
   ],
   "source": [
    "page = 5\n",
    "url = 'https://www.dianping.com/chongqing/ch10/g110r1608o3p' + str(page)\n",
    "shops = getWebpages(url)"
   ]
  },
  {
   "cell_type": "code",
   "execution_count": 32,
   "metadata": {},
   "outputs": [
    {
     "ename": "NameError",
     "evalue": "name 'shops' is not defined",
     "output_type": "error",
     "traceback": [
      "\u001b[0;31m---------------------------------------------------------------------------\u001b[0m",
      "\u001b[0;31mNameError\u001b[0m                                 Traceback (most recent call last)",
      "\u001b[0;32m<ipython-input-32-cd6204b3ae61>\u001b[0m in \u001b[0;36m<module>\u001b[0;34m\u001b[0m\n\u001b[0;32m----> 1\u001b[0;31m \u001b[0mshops\u001b[0m\u001b[0;34m\u001b[0m\u001b[0;34m\u001b[0m\u001b[0m\n\u001b[0m",
      "\u001b[0;31mNameError\u001b[0m: name 'shops' is not defined"
     ]
    }
   ],
   "source": [
    "shops"
   ]
  },
  {
   "cell_type": "code",
   "execution_count": null,
   "metadata": {},
   "outputs": [],
   "source": [
    "shopdf = getData(shops)\n",
    "filename = 'dianping' + str(page) + '.csv'\n",
    "shopdf.to_csv(filename)\n",
    "#time.sleep(30)"
   ]
  },
  {
   "cell_type": "code",
   "execution_count": null,
   "metadata": {},
   "outputs": [],
   "source": []
  }
 ],
 "metadata": {
  "kernelspec": {
   "display_name": "Python 3",
   "language": "python",
   "name": "python3"
  },
  "language_info": {
   "codemirror_mode": {
    "name": "ipython",
    "version": 3
   },
   "file_extension": ".py",
   "mimetype": "text/x-python",
   "name": "python",
   "nbconvert_exporter": "python",
   "pygments_lexer": "ipython3",
   "version": "3.8.5"
  }
 },
 "nbformat": 4,
 "nbformat_minor": 4
}
